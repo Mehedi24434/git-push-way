{
 "cells": [
  {
   "attachments": {},
   "cell_type": "markdown",
   "metadata": {},
   "source": [
    "git init  \n",
    "git config --global user.name \"Mehedi24434\"  \n",
    "git config --global user.email \"mehedi24434@gmail.com\"  \n",
    "git config -l\n",
    " "
   ]
  },
  {
   "attachments": {},
   "cell_type": "markdown",
   "metadata": {},
   "source": [
    "### Cloning"
   ]
  },
  {
   "attachments": {},
   "cell_type": "markdown",
   "metadata": {},
   "source": [
    "git clone https://....\n"
   ]
  },
  {
   "attachments": {},
   "cell_type": "markdown",
   "metadata": {},
   "source": [
    "then open the cloned folder and add all file to that cloned folder and open terminal to that folder "
   ]
  },
  {
   "attachments": {},
   "cell_type": "markdown",
   "metadata": {},
   "source": [
    "git init  \n",
    "git status  \n",
    "git add .  \n",
    "git commit -m \"msg\"  \n",
    "git branch -M main\n"
   ]
  },
  {
   "attachments": {},
   "cell_type": "markdown",
   "metadata": {},
   "source": [
    "### Add Remote\n",
    "git remote add origin https://.....  \n",
    "git push -u origin main"
   ]
  },
  {
   "attachments": {},
   "cell_type": "markdown",
   "metadata": {},
   "source": [
    "### Changes made\n",
    "after changes made, just commit a msg change then sync it\n"
   ]
  },
  {
   "attachments": {},
   "cell_type": "markdown",
   "metadata": {},
   "source": [
    "to see env list : conda env list  \n",
    "to remove env : rm -rf /home/mehedi/miniconda3/envs/fa1"
   ]
  },
  {
   "cell_type": "markdown",
   "metadata": {},
   "source": [
    "### for new setup\n",
    "go to link : https://github.com/cli/cli/blob/trunk/docs/install_linux.md\n",
    "install the 1st pera by copy paste (type -p curl >/dev/null || (sudo apt update && sudo apt install curl -y)\n",
    "curl -fsSL https://cli.github.com/packages/githubcli-archive-keyring.gpg | sudo dd of=/usr/share/keyrings/githubcli-archive-keyring.gpg \\\n",
    "&& sudo chmod go+r /usr/share/keyrings/githubcli-archive-keyring.gpg \\\n",
    "&& echo \"deb [arch=$(dpkg --print-architecture) signed-by=/usr/share/keyrings/githubcli-archive-keyring.gpg] https://cli.github.com/packages stable main\" | sudo tee /etc/apt/sources.list.d/github-cli.list > /dev/null \\\n",
    "&& sudo apt update \\\n",
    "&& sudo apt install gh -y)"
   ]
  },
  {
   "cell_type": "markdown",
   "metadata": {},
   "source": [
    "gh auth login"
   ]
  },
  {
   "cell_type": "markdown",
   "metadata": {},
   "source": [
    "here choose activate by token, generate token from developer setting and paste here  \n",
    "after authorized, then use git clone"
   ]
  }
 ],
 "metadata": {
  "language_info": {
   "name": "python"
  },
  "orig_nbformat": 4
 },
 "nbformat": 4,
 "nbformat_minor": 2
}
